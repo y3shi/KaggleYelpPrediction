{
 "cells": [
  {
   "cell_type": "markdown",
   "metadata": {},
   "source": [
    "# Section 1 (Regression)"
   ]
  },
  {
   "cell_type": "code",
   "execution_count": 12,
   "metadata": {},
   "outputs": [],
   "source": [
    "import gzip\n",
    "from collections import defaultdict\n",
    "import math\n",
    "import scipy.optimize\n",
    "import numpy\n",
    "import string\n",
    "import random\n",
    "from sklearn import linear_model\n",
    "import dateutil.parser\n",
    "import numpy as np"
   ]
  },
  {
   "cell_type": "code",
   "execution_count": 2,
   "metadata": {},
   "outputs": [],
   "source": [
    "def parse(f):\n",
    "    for l in gzip.open(f):\n",
    "        yield eval(l)"
   ]
  },
  {
   "cell_type": "code",
   "execution_count": 3,
   "metadata": {},
   "outputs": [],
   "source": [
    "# Download data from below:\n",
    "# https://cseweb.ucsd.edu/classes/fa21/cse258-b/files/\n",
    "dataset = list(parse(\"trainRecipes.json.gz\"))"
   ]
  },
  {
   "cell_type": "code",
   "execution_count": 4,
   "metadata": {},
   "outputs": [
    {
     "data": {
      "text/plain": [
       "200000"
      ]
     },
     "execution_count": 4,
     "metadata": {},
     "output_type": "execute_result"
    }
   ],
   "source": [
    "len(dataset)"
   ]
  },
  {
   "cell_type": "code",
   "execution_count": 5,
   "metadata": {},
   "outputs": [],
   "source": [
    "train = dataset[:150000]\n",
    "valid = dataset[150000:175000]\n",
    "test = dataset[175000:]"
   ]
  },
  {
   "cell_type": "code",
   "execution_count": 6,
   "metadata": {},
   "outputs": [
    {
     "data": {
      "text/plain": [
       "{'name': 'double delicious cookie bars',\n",
       " 'minutes': 40,\n",
       " 'contributor_id': '26865936',\n",
       " 'submitted': '2007-08-27',\n",
       " 'steps': 'preheat oven to 350f\\tin 13x9-inch baking pan , melt butter in oven\\tsprinkle crumbs evenly over butter\\tpour milk evenly over crumbs\\ttop with remaining ingredients\\tpress down firmly\\tbake 25-30 minutes or until lightly browned\\tcool completely , chill if desired , and cut into bars',\n",
       " 'description': 'from \"all time favorite recipes\". for fun, try substituting butterscotch or white chocolate chips for the semi-sweet and/or peanut butter chips. make sure you cool it completely or the bottom will crumble!',\n",
       " 'ingredients': ['butter',\n",
       "  'graham cracker crumbs',\n",
       "  'sweetened condensed milk',\n",
       "  'semi-sweet chocolate chips',\n",
       "  'peanut butter chips'],\n",
       " 'recipe_id': '98015212'}"
      ]
     },
     "execution_count": 6,
     "metadata": {},
     "output_type": "execute_result"
    }
   ],
   "source": [
    "dataset[1]"
   ]
  },
  {
   "cell_type": "code",
   "execution_count": 7,
   "metadata": {},
   "outputs": [],
   "source": [
    "### Question 1"
   ]
  },
  {
   "cell_type": "code",
   "execution_count": 9,
   "metadata": {},
   "outputs": [],
   "source": [
    "def feat1a(d):\n",
    "    f = [1]\n",
    "    f.append(len(d['steps']))\n",
    "    return f\n",
    "    "
   ]
  },
  {
   "cell_type": "code",
   "execution_count": 13,
   "metadata": {},
   "outputs": [
    {
     "name": "stdout",
     "output_type": "stream",
     "text": [
      "The feature vector of the first training sample:\n",
      "[1, 743]\n",
      "The MSE of the testing model a is 6252.530902729382\n"
     ]
    }
   ],
   "source": [
    "X_train = [feat1a(d) for d in train]\n",
    "X_test = [feat1a(d) for d in test]\n",
    "\n",
    "y_train = [d['minutes'] for d in train]\n",
    "y_test = [d['minutes'] for d in test]\n",
    "\n",
    "print(\"The feature vector of the first training sample:\")\n",
    "print(feat1a(train[0]))\n",
    "\n",
    "model_a = np.linalg.lstsq(X_train, y_train,rcond=None)\n",
    "test_predictions_a = np.array(X_test).dot(model_a[0])\n",
    "MSE_test_a = ((y_test - test_predictions_a).dot(y_test - test_predictions_a))/len(y_test)\n",
    "\n",
    "print(\"The MSE of the testing model a is \" + str (MSE_test_a))"
   ]
  },
  {
   "cell_type": "code",
   "execution_count": 20,
   "metadata": {},
   "outputs": [],
   "source": [
    "time = [d['submitted'] for d in dataset]"
   ]
  },
  {
   "cell_type": "code",
   "execution_count": 21,
   "metadata": {},
   "outputs": [],
   "source": [
    "for d in dataset:\n",
    "    t = dateutil.parser.parse(d['submitted'])\n",
    "    d['parsed_date'] = t"
   ]
  },
  {
   "cell_type": "code",
   "execution_count": 22,
   "metadata": {},
   "outputs": [],
   "source": [
    "year = []\n",
    "for d in dataset:\n",
    "    t = dateutil.parser.parse(d['submitted'])\n",
    "    year.append(t.year)"
   ]
  },
  {
   "cell_type": "code",
   "execution_count": 23,
   "metadata": {},
   "outputs": [],
   "source": [
    "minYear = min([d['parsed_date'].year for d in dataset])\n",
    "maxYear = max([d['parsed_date'].year for d in dataset])"
   ]
  },
  {
   "cell_type": "code",
   "execution_count": 24,
   "metadata": {},
   "outputs": [
    {
     "data": {
      "text/plain": [
       "(1999, 2018)"
      ]
     },
     "execution_count": 24,
     "metadata": {},
     "output_type": "execute_result"
    }
   ],
   "source": [
    "minYear, maxYear"
   ]
  },
  {
   "cell_type": "code",
   "execution_count": 25,
   "metadata": {},
   "outputs": [],
   "source": [
    "yearLength = 2018-1999 + 1 # One-hot encoding length"
   ]
  },
  {
   "cell_type": "code",
   "execution_count": 33,
   "metadata": {},
   "outputs": [],
   "source": [
    "def feat1b(d):\n",
    "    f = [1]\n",
    "    mon = [0]*12\n",
    "    pd = d['parsed_date']\n",
    "    mon[pd.month-1] = 1\n",
    "    year = [0]*yearLength\n",
    "    year[pd.year - minYear] = 1\n",
    "    return f + mon[:-1] + year[:-1]    "
   ]
  },
  {
   "cell_type": "code",
   "execution_count": 34,
   "metadata": {},
   "outputs": [
    {
     "name": "stdout",
     "output_type": "stream",
     "text": [
      "The first feature vector should look like these:\n",
      "[1, 0, 0, 0, 0, 1, 0, 0, 0, 0, 0, 0, 0, 0, 0, 0, 0, 1, 0, 0, 0, 0, 0, 0, 0, 0, 0, 0, 0, 0, 0]\n"
     ]
    }
   ],
   "source": [
    "X_train = [feat1b(d) for d in train]\n",
    "X_test = [feat1b(d) for d in test]\n",
    "print(\"The first feature vector should look like these:\")\n",
    "print(X_train[0])"
   ]
  },
  {
   "cell_type": "code",
   "execution_count": 36,
   "metadata": {},
   "outputs": [],
   "source": [
    "model_b = np.linalg.lstsq(X_train, y_train,rcond=None)"
   ]
  },
  {
   "cell_type": "code",
   "execution_count": 37,
   "metadata": {},
   "outputs": [
    {
     "name": "stdout",
     "output_type": "stream",
     "text": [
      "The MSE of the testing model is 6396.833687711815\n"
     ]
    }
   ],
   "source": [
    "test_predictions_b = np.array(X_test).dot(model_b[0])# predict  = theta * X\n",
    "MSE_test_b = ((y_test - test_predictions_b).dot(y_test - test_predictions_b))/len(y_test)\n",
    "print(\"The MSE of the testing model is \" + str (MSE_test_b))"
   ]
  },
  {
   "cell_type": "code",
   "execution_count": 83,
   "metadata": {},
   "outputs": [],
   "source": [
    "ingredients = {}\n",
    "for d in dataset:\n",
    "    for i in d['ingredients']:\n",
    "        if i not in ingredients:\n",
    "            ingredients[i] = 0\n",
    "        ingredients[i] += 1"
   ]
  },
  {
   "cell_type": "code",
   "execution_count": 85,
   "metadata": {},
   "outputs": [
    {
     "name": "stdout",
     "output_type": "stream",
     "text": [
      "['salt', 'butter', 'sugar', 'onion', 'water', 'eggs', 'olive oil', 'flour', 'milk', 'garlic cloves', 'pepper', 'brown sugar', 'garlic', 'all-purpose flour', 'baking powder', 'egg', 'salt and pepper', 'parmesan cheese', 'lemon juice', 'baking soda', 'vegetable oil', 'vanilla', 'black pepper', 'cinnamon', 'tomatoes', 'sour cream', 'garlic powder', 'vanilla extract', 'oil', 'honey', 'garlic clove', 'cream cheese', 'onions', 'celery', 'cheddar cheese', 'unsalted butter', 'mayonnaise', 'soy sauce', 'chicken broth', 'paprika', 'extra virgin olive oil', 'worcestershire sauce', 'fresh parsley', 'cornstarch', 'fresh ground black pepper', 'parsley', 'carrots', 'chili powder', 'ground cinnamon', 'bacon']\n"
     ]
    }
   ],
   "source": [
    "lst = []\n",
    "for i in ingredients:\n",
    "    lst.append([i,ingredients[i]])\n",
    "lst = sorted(lst, key=lambda x: x[1], reverse=True)\n",
    "mostpopular = [i[0] for i in lst[:50]]\n",
    "print(mostpopular)"
   ]
  },
  {
   "cell_type": "code",
   "execution_count": 86,
   "metadata": {},
   "outputs": [
    {
     "name": "stdout",
     "output_type": "stream",
     "text": [
      "[0, 0, 0, 0, 0, 0, 1, 0, 0, 0, 0, 0, 0, 0, 0, 1, 1, 0, 0, 0, 0, 0, 0, 0, 0, 0, 0, 0, 0, 0, 1, 0, 0, 0, 0, 0, 0, 0, 0, 0, 0, 0, 0, 0, 0, 0, 0, 0, 0, 0]\n"
     ]
    }
   ],
   "source": [
    "def feat1c(d):\n",
    "    v = [0]*50\n",
    "    for i in d['ingredients']:\n",
    "        if i in mostpopular:\n",
    "            v[mostpopular.index(i)] = 1\n",
    "    return v\n",
    "\n",
    "print(feat1c(dataset[0]))"
   ]
  },
  {
   "cell_type": "code",
   "execution_count": 87,
   "metadata": {},
   "outputs": [],
   "source": [
    "def feat(d, a = True, b = True, c = True):\n",
    "    # Hint: for Questions 1 and 2, might be useful to set up a function like this\n",
    "    #       which allows you to \"select\" which features are included\n",
    "    X =[]\n",
    "    y = []\n",
    "    for d in dataset:\n",
    "        x = []\n",
    "        if a:\n",
    "            x += feat1a(d)\n",
    "        if b:\n",
    "            x += feat1b(d)\n",
    "        if c:\n",
    "            x += feat1c(d)\n",
    "        X.append(x)\n",
    "        y.append(int(d['minutes']))\n",
    "    return X, y"
   ]
  },
  {
   "cell_type": "code",
   "execution_count": 88,
   "metadata": {},
   "outputs": [],
   "source": [
    "def MSE(y, ypred):\n",
    "    return ((y- ypred).dot(y - ypred))/len(y_test)"
   ]
  },
  {
   "cell_type": "code",
   "execution_count": null,
   "metadata": {},
   "outputs": [],
   "source": [
    "def experiment(mod,a, b, c):\n",
    "    X_train, y_train = feat(train, a, b, c)\n",
    "    X_test, y_test = feat(test, a, b, c)\n",
    "    mod.fit(X_train, y_train)\n",
    "    y_pred = mod.predict(X_test)\n",
    "    return MSE(y_test, y_pred)"
   ]
  },
  {
   "cell_type": "code",
   "execution_count": 90,
   "metadata": {},
   "outputs": [],
   "source": [
    "mod = linear_model.LinearRegression()"
   ]
  },
  {
   "cell_type": "code",
   "execution_count": 91,
   "metadata": {},
   "outputs": [],
   "source": [
    "### Question 2"
   ]
  },
  {
   "cell_type": "code",
   "execution_count": null,
   "metadata": {},
   "outputs": [],
   "source": [
    "experiment(mod,True,False,False)"
   ]
  },
  {
   "cell_type": "code",
   "execution_count": 92,
   "metadata": {},
   "outputs": [
    {
     "name": "stdout",
     "output_type": "stream",
     "text": [
      "46635.61203903802\n"
     ]
    }
   ],
   "source": [
    "MSE_ablations1 = experiment(mod,False,True,True)\n",
    "print(MSE_ablations1)"
   ]
  },
  {
   "cell_type": "code",
   "execution_count": 67,
   "metadata": {},
   "outputs": [
    {
     "name": "stdout",
     "output_type": "stream",
     "text": [
      "45841.13846291681\n"
     ]
    }
   ],
   "source": [
    "MSE_ablations2 = experiment(mod,True,False,True)\n",
    "print(MSE_ablations2)"
   ]
  },
  {
   "cell_type": "code",
   "execution_count": 68,
   "metadata": {},
   "outputs": [
    {
     "name": "stdout",
     "output_type": "stream",
     "text": [
      "48693.300065570365\n"
     ]
    }
   ],
   "source": [
    "MSE_ablations3 = experiment(mod,True,True,False)\n",
    "print(MSE_ablations3)"
   ]
  },
  {
   "cell_type": "code",
   "execution_count": 70,
   "metadata": {},
   "outputs": [
    {
     "name": "stdout",
     "output_type": "stream",
     "text": [
      "45743.02541593012\n"
     ]
    }
   ],
   "source": [
    "MSE_ALL = experiment(mod,True,True,True)\n",
    "print(MSE_ALL)"
   ]
  },
  {
   "cell_type": "markdown",
   "metadata": {},
   "source": [
    "The most important feature is 50-dimensional binary vector since when excluding it, the MSE is much more bigger than excluding the other two features compared with the all MSE."
   ]
  },
  {
   "cell_type": "code",
   "execution_count": 28,
   "metadata": {},
   "outputs": [],
   "source": [
    "### Question 3"
   ]
  },
  {
   "cell_type": "code",
   "execution_count": null,
   "metadata": {},
   "outputs": [],
   "source": []
  },
  {
   "cell_type": "code",
   "execution_count": 29,
   "metadata": {},
   "outputs": [],
   "source": [
    "def pipeline():\n",
    "    for lamb in [0.001, 0.01, 0.1, 1, 10, 100, 1000]:\n",
    "        "
   ]
  },
  {
   "cell_type": "code",
   "execution_count": null,
   "metadata": {},
   "outputs": [],
   "source": []
  },
  {
   "cell_type": "code",
   "execution_count": 31,
   "metadata": {},
   "outputs": [],
   "source": [
    "### Question 4\n",
    "#(open ended)"
   ]
  },
  {
   "cell_type": "code",
   "execution_count": null,
   "metadata": {},
   "outputs": [],
   "source": []
  },
  {
   "cell_type": "markdown",
   "metadata": {},
   "source": [
    "# Section 2 (Classification)"
   ]
  },
  {
   "cell_type": "code",
   "execution_count": 103,
   "metadata": {},
   "outputs": [],
   "source": [
    "### Question 5"
   ]
  },
  {
   "cell_type": "code",
   "execution_count": 104,
   "metadata": {},
   "outputs": [],
   "source": [
    "X_train = [feat1c(d) for d in train]\n",
    "X_test = [feat1c(d) for d in test]\n",
    "y_train = ['butter' in d['ingredients'] for d in train]\n",
    "y_test = ['butter' in d['ingredients'] for d in test]"
   ]
  },
  {
   "cell_type": "code",
   "execution_count": 98,
   "metadata": {},
   "outputs": [],
   "source": [
    "mod = linear_model.LogisticRegression(C=1.0,class_weight='balanced')\n",
    "mod.fit(X_train,y_train)\n",
    "pred = mod.predict(X_test)"
   ]
  },
  {
   "cell_type": "code",
   "execution_count": 100,
   "metadata": {},
   "outputs": [],
   "source": [
    "def BER(predictions, y):\n",
    "    # Implement following this logic or otherwise\n",
    "    TP = sum([(p and l) for (p,l) in zip(predictions, y)])\n",
    "    FP = sum([(p and not l) for (p,l) in zip(predictions, y)])\n",
    "    TN = sum([(not p and not l) for (p,l) in zip(predictions, y)])\n",
    "    FN = sum([(not p and l) for (p,l) in zip(predictions, y)])  \n",
    "    return (TP + TN) / (TP + FP + TN + FN)"
   ]
  },
  {
   "cell_type": "code",
   "execution_count": 102,
   "metadata": {},
   "outputs": [
    {
     "data": {
      "text/plain": [
       "0.63708"
      ]
     },
     "execution_count": 102,
     "metadata": {},
     "output_type": "execute_result"
    }
   ],
   "source": [
    "BER(pred,y_train)"
   ]
  },
  {
   "cell_type": "code",
   "execution_count": 34,
   "metadata": {},
   "outputs": [],
   "source": [
    "def feat2(d, dict_size, mostPopularInd):\n",
    "    fIng = [0] * dict_size\n",
    "    for i in d['ingredients']:\n",
    "        if i == 'butter':\n",
    "            continue\n",
    "        if i in mostPopularInd:\n",
    "            fIng[mostPopularInd[i]] = 1\n",
    "    return fIng"
   ]
  },
  {
   "cell_type": "code",
   "execution_count": 35,
   "metadata": {},
   "outputs": [],
   "source": [
    "def experiment(reg = 1, dict_size = 50):\n",
    "    # Hint: run an experiment with a particular regularization strength, and a particular one-hot encoding size\n",
    "    # extract features...\n",
    "    # (etc.)\n",
    "    mod = linear_model.LogisticRegression(C=reg, class_weight='balanced', solver = 'lbfgs')\n",
    "    # (etc.)"
   ]
  },
  {
   "cell_type": "code",
   "execution_count": null,
   "metadata": {},
   "outputs": [],
   "source": []
  },
  {
   "cell_type": "code",
   "execution_count": 37,
   "metadata": {},
   "outputs": [],
   "source": [
    "### Question 6"
   ]
  },
  {
   "cell_type": "code",
   "execution_count": 38,
   "metadata": {},
   "outputs": [],
   "source": [
    "def pipeline():\n",
    "    for C in [0.01, 1, 100]:\n",
    "        for dsize in [50, 100, 500]:\n",
    "            # Example values, can pick any others..."
   ]
  },
  {
   "cell_type": "code",
   "execution_count": null,
   "metadata": {},
   "outputs": [],
   "source": []
  },
  {
   "cell_type": "code",
   "execution_count": 40,
   "metadata": {},
   "outputs": [],
   "source": [
    "### Question 7\n",
    "#(open ended)"
   ]
  },
  {
   "cell_type": "code",
   "execution_count": null,
   "metadata": {},
   "outputs": [],
   "source": []
  },
  {
   "cell_type": "markdown",
   "metadata": {},
   "source": [
    "# Section 3 (Recommender Systems)"
   ]
  },
  {
   "cell_type": "code",
   "execution_count": null,
   "metadata": {},
   "outputs": [],
   "source": [
    "### Question 8"
   ]
  },
  {
   "cell_type": "code",
   "execution_count": 71,
   "metadata": {},
   "outputs": [],
   "source": [
    "# Utility data structures\n",
    "ingsPerItem = defaultdict(set)\n",
    "itemsPerIng = defaultdict(set)"
   ]
  },
  {
   "cell_type": "code",
   "execution_count": 72,
   "metadata": {},
   "outputs": [],
   "source": [
    "for d in dataset:\n",
    "    r = d['recipe_id']\n",
    "    for i in d['ingredients']:\n",
    "        ingsPerItem[r].add(i)\n",
    "        itemsPerIng[i].add(r)"
   ]
  },
  {
   "cell_type": "code",
   "execution_count": 75,
   "metadata": {},
   "outputs": [],
   "source": [
    "def Jaccard(s1, s2):\n",
    "    numer = len(s1.intersection(s2))\n",
    "    denom = len(s1.union(s2))\n",
    "    if denom == 0:\n",
    "        return 0\n",
    "    return numer / denom\n",
    "    "
   ]
  },
  {
   "cell_type": "code",
   "execution_count": 105,
   "metadata": {},
   "outputs": [],
   "source": [
    "def mostSimilar8(i, N):\n",
    "    similarities = []\n",
    "    ings = ingsPerItem[i]\n",
    "    for i2 in ingsPerItem:\n",
    "        if i2 == i: continue\n",
    "        sim = Jaccard(ings, ingsPerItem[i2])\n",
    "        similarities.append((sim,i2))\n",
    "    similarities=sorted(similarities,key = lambda x:[-x[0],x[1]]\n",
    "#                         ,reverse=True\n",
    "                       )\n",
    "    return similarities[:N]"
   ]
  },
  {
   "cell_type": "code",
   "execution_count": 106,
   "metadata": {},
   "outputs": [
    {
     "name": "stdout",
     "output_type": "stream",
     "text": [
      "The five most similar recipes to the first recipe and their Jaccard similaritie are:\n"
     ]
    },
    {
     "data": {
      "text/plain": [
       "[(0.4166666666666667, '68523854'),\n",
       " (0.38461538461538464, '12679596'),\n",
       " (0.36363636363636365, '56301588'),\n",
       " (0.36363636363636365, '79675099'),\n",
       " (0.35714285714285715, '87359281')]"
      ]
     },
     "execution_count": 106,
     "metadata": {},
     "output_type": "execute_result"
    }
   ],
   "source": [
    "item = '06432987'\n",
    "n = 5\n",
    "print(\"The five most similar recipes to the first recipe and their Jaccard similaritie are:\")\n",
    "mostSimilar8(item,n)"
   ]
  },
  {
   "cell_type": "code",
   "execution_count": null,
   "metadata": {},
   "outputs": [],
   "source": [
    "### Question 9"
   ]
  },
  {
   "cell_type": "code",
   "execution_count": 107,
   "metadata": {},
   "outputs": [],
   "source": [
    "def mostSimilar9(i, N):\n",
    "    similarities = []\n",
    "    items = itemsPerIng[i]\n",
    "    for u2 in itemsPerIng:\n",
    "        if u2 == i: continue\n",
    "        sim = Jaccard(items, itemsPerIng[u2])\n",
    "        if sim == 1: continue\n",
    "        similarities.append((sim,u2))\n",
    "    similarities=sorted(similarities,key = lambda x:[-x[0],x[1]]\n",
    "#                         ,reverse=True\n",
    "                       )    \n",
    "    return similarities[:N]"
   ]
  },
  {
   "cell_type": "code",
   "execution_count": 108,
   "metadata": {},
   "outputs": [
    {
     "name": "stdout",
     "output_type": "stream",
     "text": [
      "The five most similar ingredients to butter and their Jaccard similaritie are:\n"
     ]
    },
    {
     "data": {
      "text/plain": [
       "[(0.22315311514274808, 'salt'),\n",
       " (0.2056685424969639, 'flour'),\n",
       " (0.19100394157199166, 'eggs'),\n",
       " (0.17882420717656095, 'sugar'),\n",
       " (0.17040052045973944, 'milk')]"
      ]
     },
     "execution_count": 108,
     "metadata": {},
     "output_type": "execute_result"
    }
   ],
   "source": [
    "i = 'butter'\n",
    "N = 5\n",
    "print(\"The five most similar ingredients to butter and their Jaccard similaritie are:\")\n",
    "mostSimilar9(i,N)"
   ]
  },
  {
   "cell_type": "code",
   "execution_count": null,
   "metadata": {},
   "outputs": [],
   "source": [
    "### Question 10\n",
    "#(open ended)"
   ]
  }
 ],
 "metadata": {
  "kernelspec": {
   "display_name": "Python 3",
   "language": "python",
   "name": "python3"
  },
  "language_info": {
   "codemirror_mode": {
    "name": "ipython",
    "version": 3
   },
   "file_extension": ".py",
   "mimetype": "text/x-python",
   "name": "python",
   "nbconvert_exporter": "python",
   "pygments_lexer": "ipython3",
   "version": "3.7.0"
  }
 },
 "nbformat": 4,
 "nbformat_minor": 2
}
