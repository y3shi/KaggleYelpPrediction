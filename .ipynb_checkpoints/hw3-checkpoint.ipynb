{
 "cells": [
  {
   "cell_type": "code",
   "execution_count": 1,
   "metadata": {},
   "outputs": [],
   "source": [
    "import gzip\n",
    "from collections import defaultdict\n",
    "\n",
    "import random\n",
    "import numpy as np\n",
    "import csv\n",
    "# import tensorflow as tf\n",
    "# from surprise import SVD, Reader, Dataset"
   ]
  },
  {
   "cell_type": "code",
   "execution_count": 2,
   "metadata": {},
   "outputs": [],
   "source": [
    "def readGz(path):\n",
    "    for l in gzip.open(path, 'rt'):\n",
    "        yield eval(l)\n",
    "\n",
    "def readCSV(path):\n",
    "    f = gzip.open(path, 'rt')\n",
    "    c = csv.reader(f)\n",
    "    header = next(c)\n",
    "    for l in c:\n",
    "        d = dict(zip(header,l))\n",
    "        yield d['user_id'],d['recipe_id'],d"
   ]
  },
  {
   "cell_type": "markdown",
   "metadata": {},
   "source": [
    "Split the date into Training and Validation sets"
   ]
  },
  {
   "cell_type": "code",
   "execution_count": 3,
   "metadata": {},
   "outputs": [],
   "source": [
    "data = []\n",
    "recipes = []\n",
    "user_item = defaultdict(list)\n",
    "\n",
    "for user,recipe,d in readCSV(\"trainInteractions.csv.gz\"):\n",
    "    data.append(d)\n",
    "    recipes.append(recipe)\n",
    "    user_item[user].append(recipe)"
   ]
  },
  {
   "cell_type": "code",
   "execution_count": 4,
   "metadata": {},
   "outputs": [],
   "source": [
    "trainsize = 400000\n",
    "train = data[:trainsize]\n",
    "valid = data[trainsize:]"
   ]
  },
  {
   "cell_type": "code",
   "execution_count": 5,
   "metadata": {},
   "outputs": [],
   "source": [
    "user_item_train = defaultdict(set)\n",
    "item_user_train = defaultdict(set)\n",
    "user_item_valid = defaultdict(list)\n",
    "for d in train:\n",
    "    user,item = d['user_id'],d['recipe_id']\n",
    "    user_item_train[item].add(user)#\n",
    "    item_user_train[user].add(item)\n",
    "for d in valid:\n",
    "    user,item = d['user_id'],d['recipe_id']\n",
    "    user_item_valid[user].append(item)"
   ]
  },
  {
   "cell_type": "code",
   "execution_count": 6,
   "metadata": {},
   "outputs": [],
   "source": [
    "valid_new = defaultdict(dict)\n",
    "recipes = list(set(recipes))\n",
    "randomed = set()\n",
    "for d in valid:\n",
    "    user = d['user_id']\n",
    "    recipe = d['recipe_id']\n",
    "    valid_new[user][recipe]=1\n",
    "    while True:\n",
    "        random_int = random.randint(0,len(recipes)-1)\n",
    "        random_recipe = recipes[random_int]\n",
    "        if random_recipe not in user_item[user] and random_recipe not in randomed:\n",
    "            valid_new[user][random_recipe] = 0\n",
    "            randomed.add(random_recipe)\n",
    "            break"
   ]
  },
  {
   "cell_type": "code",
   "execution_count": 7,
   "metadata": {},
   "outputs": [
    {
     "data": {
      "text/plain": [
       "(200000, 100000, 100000)"
      ]
     },
     "execution_count": 7,
     "metadata": {},
     "output_type": "execute_result"
    }
   ],
   "source": [
    "pos = 0\n",
    "neg = 0\n",
    "cnt =0\n",
    "for user in valid_new:\n",
    "    for recipe in valid_new[user]:\n",
    "        cnt +=1\n",
    "        if valid_new[user][recipe] == 1:\n",
    "            pos+=1\n",
    "        if valid_new[user][recipe] == 0:\n",
    "            neg +=1\n",
    "cnt, pos,neg"
   ]
  },
  {
   "cell_type": "markdown",
   "metadata": {},
   "source": [
    "### Q1"
   ]
  },
  {
   "cell_type": "code",
   "execution_count": 8,
   "metadata": {},
   "outputs": [],
   "source": [
    "### Would-cook baseline: just rank which recipes are popular and which are not, and return '1' if a recipe is among the top-ranked\n",
    "\n",
    "recipeCount = defaultdict(int)\n",
    "totalCooked = 0\n",
    "\n",
    "for user,recipe,_ in readCSV(\"trainInteractions.csv.gz\"):\n",
    "  recipeCount[recipe] += 1\n",
    "  totalCooked += 1\n",
    "\n",
    "mostPopular = [(recipeCount[x], x) for x in recipeCount]\n",
    "mostPopular.sort()\n",
    "mostPopular.reverse()\n",
    "\n",
    "return1 = set()\n",
    "count = 0\n",
    "for ic, i in mostPopular:\n",
    "  count += ic\n",
    "  return1.add(i)\n",
    "  if count > totalCooked/2: break #只取前50%的\n"
   ]
  },
  {
   "cell_type": "code",
   "execution_count": 9,
   "metadata": {},
   "outputs": [
    {
     "name": "stdout",
     "output_type": "stream",
     "text": [
      "The accuracy of the baseline model is: 0.69481\n"
     ]
    }
   ],
   "source": [
    "cnt = 0\n",
    "correct = 0\n",
    "for user in valid_new:\n",
    "    for recipe in valid_new[user]:\n",
    "        cnt +=1\n",
    "        if recipe in return1 and valid_new[user][recipe] == 1:\n",
    "            correct +=1\n",
    "        if recipe not in return1 and valid_new[user][recipe] == 0:\n",
    "            correct +=1\n",
    "accuracy1 = correct/cnt\n",
    "print(\"The accuracy of the baseline model is: \" + str(accuracy1))"
   ]
  },
  {
   "cell_type": "markdown",
   "metadata": {},
   "source": [
    "### Q2"
   ]
  },
  {
   "cell_type": "code",
   "execution_count": 11,
   "metadata": {},
   "outputs": [],
   "source": [
    "def adjustThreshold(start,end,step):\n",
    "    res = []\n",
    "\n",
    "    for t in np.arange(start,end,step):\n",
    "        return2 = set()\n",
    "        count = 0\n",
    "        for ic, i in mostPopular:\n",
    "            count += ic\n",
    "            return2.add(i)\n",
    "            if count > totalCooked*t: break\n",
    "        \n",
    "        cnt = 0\n",
    "        correct = 0\n",
    "        for user in valid_new:\n",
    "            for recipe in valid_new[user]:\n",
    "                cnt +=1\n",
    "                if recipe in return2 and valid_new[user][recipe] == 1:\n",
    "                    correct +=1\n",
    "                if recipe not in return2 and valid_new[user][recipe] == 0:\n",
    "                    correct +=1\n",
    "        \n",
    "        accuracy = correct/cnt\n",
    "        \n",
    "        res.append((t,accuracy))           \n",
    "    return res"
   ]
  },
  {
   "cell_type": "code",
   "execution_count": 25,
   "metadata": {},
   "outputs": [],
   "source": [
    "res = adjustThreshold(start=0.1,end=0.7,step=0.01)\n"
   ]
  },
  {
   "cell_type": "code",
   "execution_count": 26,
   "metadata": {},
   "outputs": [
    {
     "name": "stdout",
     "output_type": "stream",
     "text": [
      "The best threshold is: 0.639\n",
      "The accuracy is: 0.713\n"
     ]
    }
   ],
   "source": [
    "res = sorted(res,key=lambda x: x[1], reverse=True)\n",
    "print(\"The best threshold is: \"+str(res[0][0])[:5])\n",
    "print(\"The accuracy is: \"+ str(res[0][1])[:5])"
   ]
  },
  {
   "cell_type": "code",
   "execution_count": 27,
   "metadata": {},
   "outputs": [
    {
     "data": {
      "text/plain": [
       "[(0.6399999999999997, 0.71349),\n",
       " (0.6499999999999997, 0.71313),\n",
       " (0.6599999999999997, 0.712805),\n",
       " (0.6299999999999997, 0.712545),\n",
       " (0.6699999999999997, 0.712525),\n",
       " (0.6199999999999998, 0.71184),\n",
       " (0.6799999999999997, 0.71179),\n",
       " (0.6899999999999997, 0.711205),\n",
       " (0.6099999999999998, 0.71088),\n",
       " (0.5999999999999998, 0.71013),\n",
       " (0.5899999999999997, 0.709305),\n",
       " (0.5799999999999997, 0.708395),\n",
       " (0.5699999999999997, 0.707415),\n",
       " (0.5599999999999997, 0.705755),\n",
       " (0.5499999999999998, 0.70398),\n",
       " (0.5399999999999998, 0.70253),\n",
       " (0.5299999999999998, 0.700995),\n",
       " (0.5199999999999998, 0.69909),\n",
       " (0.5099999999999998, 0.696865),\n",
       " (0.4999999999999998, 0.69481),\n",
       " (0.48999999999999977, 0.692545),\n",
       " (0.47999999999999976, 0.69032),\n",
       " (0.46999999999999986, 0.68824),\n",
       " (0.45999999999999985, 0.68572),\n",
       " (0.44999999999999984, 0.68306),\n",
       " (0.43999999999999984, 0.68053),\n",
       " (0.4299999999999998, 0.6778),\n",
       " (0.4199999999999998, 0.67495),\n",
       " (0.4099999999999998, 0.672095),\n",
       " (0.3999999999999998, 0.6689),\n",
       " (0.3899999999999999, 0.665735),\n",
       " (0.3799999999999999, 0.662845),\n",
       " (0.3699999999999999, 0.65948),\n",
       " (0.3599999999999999, 0.656105),\n",
       " (0.34999999999999987, 0.652845),\n",
       " (0.33999999999999986, 0.649565),\n",
       " (0.32999999999999985, 0.64623),\n",
       " (0.3199999999999999, 0.642685),\n",
       " (0.30999999999999994, 0.639005),\n",
       " (0.29999999999999993, 0.63534),\n",
       " (0.2899999999999999, 0.631485),\n",
       " (0.2799999999999999, 0.62758),\n",
       " (0.2699999999999999, 0.623435),\n",
       " (0.2599999999999999, 0.619615),\n",
       " (0.24999999999999992, 0.6156),\n",
       " (0.23999999999999994, 0.611495),\n",
       " (0.22999999999999995, 0.60741),\n",
       " (0.21999999999999995, 0.602965),\n",
       " (0.20999999999999996, 0.59864),\n",
       " (0.19999999999999996, 0.59434),\n",
       " (0.18999999999999995, 0.589955),\n",
       " (0.17999999999999997, 0.585375),\n",
       " (0.16999999999999998, 0.58074),\n",
       " (0.15999999999999998, 0.57608),\n",
       " (0.14999999999999997, 0.571715),\n",
       " (0.13999999999999999, 0.56723),\n",
       " (0.13, 0.562585),\n",
       " (0.12, 0.55787),\n",
       " (0.11, 0.55329),\n",
       " (0.1, 0.54848)]"
      ]
     },
     "execution_count": 27,
     "metadata": {},
     "output_type": "execute_result"
    }
   ],
   "source": [
    "res"
   ]
  },
  {
   "cell_type": "markdown",
   "metadata": {},
   "source": [
    "### Q3"
   ]
  },
  {
   "cell_type": "code",
   "execution_count": 9,
   "metadata": {},
   "outputs": [],
   "source": [
    "def Jaccard(s1, s2):\n",
    "    numer = len(s1.intersection(s2))\n",
    "    denom = len(s1.union(s2))\n",
    "    if denom == 0:\n",
    "        return 0\n",
    "    return numer / denom"
   ]
  },
  {
   "cell_type": "code",
   "execution_count": 10,
   "metadata": {},
   "outputs": [],
   "source": [
    "user_item_sim = defaultdict(dict) \n",
    "for user in valid_new:\n",
    "    cooked_recipes = item_user_train[user]\n",
    "    for g in valid_new[user]:\n",
    "        max_sim = -1\n",
    "        for g2 in cooked_recipes:\n",
    "            if g2 == g: continue\n",
    "            sim = Jaccard(user_item_train[g], user_item_train[g2])\n",
    "            max_sim = max(max_sim,sim)\n",
    "        user_item_sim[user][g] = max_sim"
   ]
  },
  {
   "cell_type": "code",
   "execution_count": 127,
   "metadata": {},
   "outputs": [],
   "source": [
    "# user_item_sim['90764166']"
   ]
  },
  {
   "cell_type": "code",
   "execution_count": 34,
   "metadata": {},
   "outputs": [
    {
     "name": "stdout",
     "output_type": "stream",
     "text": [
      "0.01 0.59448\n",
      "0.011 0.5946225\n",
      "0.011999999999999999 0.59463\n",
      "0.012999999999999998 0.59441875\n",
      "0.013999999999999997 0.594132\n",
      "0.014999999999999996 0.5938141666666666\n",
      "0.015999999999999993 0.5934292857142857\n",
      "0.016999999999999994 0.593015625\n",
      "0.017999999999999995 0.5925566666666666\n",
      "0.018999999999999993 0.5920215\n"
     ]
    }
   ],
   "source": [
    "cnt3 = 0\n",
    "correct3 = 0\n",
    "for threshold3 in np.arange(0.01,0.02,0.001):\n",
    "    for user in valid_new:\n",
    "        for recipe in valid_new[user]:\n",
    "            cnt3 +=1\n",
    "            if  user_item_sim[user][recipe] > threshold3 and valid_new[user][recipe] == 1:\n",
    "                correct3 +=1\n",
    "            if user_item_sim[user][recipe] <= threshold3 and valid_new[user][recipe] == 0:\n",
    "                correct3 +=1\n",
    "    accuracy3 = correct3/cnt3\n",
    "    print(threshold3,accuracy3)\n",
    "# print(\"The accuracy of the baseline model is: \" + str(accuracy3))"
   ]
  },
  {
   "cell_type": "code",
   "execution_count": 123,
   "metadata": {},
   "outputs": [],
   "source": [
    "def adjustThreshold3(start,end,step):\n",
    "    cnt3 = 0\n",
    "    correct3 = 0\n",
    "    res = []\n",
    "    for threshold3 in np.arange(start,end,step):\n",
    "        for user in valid_new:\n",
    "            for recipe in valid_new[user]:\n",
    "                cnt3 +=1\n",
    "                if  user_item_sim[user][recipe] > threshold3 and valid_new[user][recipe] == 1:\n",
    "                    correct3 +=1\n",
    "                if user_item_sim[user][recipe] <= threshold3 and valid_new[user][recipe] == 0:\n",
    "                    correct3 +=1\n",
    "        accuracy3 = correct3/cnt3\n",
    "        res.append((threshold3,accuracy3))\n",
    "    return res"
   ]
  },
  {
   "cell_type": "code",
   "execution_count": 28,
   "metadata": {},
   "outputs": [
    {
     "name": "stdout",
     "output_type": "stream",
     "text": [
      " The performance on my validation set: \n"
     ]
    }
   ],
   "source": [
    "print(\" The performance on my validation set: \")"
   ]
  },
  {
   "cell_type": "code",
   "execution_count": 126,
   "metadata": {},
   "outputs": [
    {
     "data": {
      "text/plain": [
       "[(0.01, 0.59378),\n",
       " (0.011, 0.59382),\n",
       " (0.011999999999999999, 0.5937766666666666),\n",
       " (0.012999999999999998, 0.59354125),\n",
       " (0.013999999999999997, 0.593237),\n",
       " (0.014999999999999996, 0.5929091666666667),\n",
       " (0.015999999999999993, 0.5925142857142857),\n",
       " (0.016999999999999994, 0.592118125),\n",
       " (0.017999999999999995, 0.5916794444444444),\n",
       " (0.018999999999999993, 0.5911385)]"
      ]
     },
     "execution_count": 126,
     "metadata": {},
     "output_type": "execute_result"
    }
   ],
   "source": [
    "adjustThreshold3(0.01,0.02,0.001)"
   ]
  },
  {
   "cell_type": "markdown",
   "metadata": {},
   "source": [
    "### Q4"
   ]
  },
  {
   "cell_type": "code",
   "execution_count": 11,
   "metadata": {},
   "outputs": [],
   "source": [
    "def combine(t1,t2):\n",
    "    return4 = set()\n",
    "    count = 0\n",
    "    for ic, i in mostPopular:\n",
    "        count += ic\n",
    "        return4.add(i)\n",
    "        if count > totalCooked*t1: break\n",
    "            \n",
    "    cnt4 = 0\n",
    "    correct4 = 0\n",
    "    for user in valid_new:\n",
    "        for recipe in valid_new[user]:\n",
    "            cnt4 +=1\n",
    "            if (user_item_sim[user][recipe] > t2 and recipe in return4) and valid_new[user][recipe] == 1:\n",
    "                correct4 +=1\n",
    "            if (user_item_sim[user][recipe] <= t2 and recipe not in return4) and valid_new[user][recipe] == 0:\n",
    "                correct4 +=1\n",
    "    \n",
    "    accuracy4 = correct4/cnt4\n",
    "    return accuracy4        "
   ]
  },
  {
   "cell_type": "code",
   "execution_count": null,
   "metadata": {},
   "outputs": [],
   "source": [
    "accuracys = []\n",
    "for t1 in np.arange(0,1,0.01):\n",
    "    for t2 in np.arange(0,0.5,0.01):\n",
    "        res = combine(t1,t2)\n",
    "        accuracys.append((t1,t2,res))"
   ]
  },
  {
   "cell_type": "code",
   "execution_count": null,
   "metadata": {},
   "outputs": [],
   "source": [
    "print(\"The performance of the combined model on validation set is shown below:\")\n",
    "accuracys"
   ]
  },
  {
   "cell_type": "code",
   "execution_count": 29,
   "metadata": {
    "scrolled": true
   },
   "outputs": [
    {
     "ename": "NameError",
     "evalue": "name 'accuracys' is not defined",
     "output_type": "error",
     "traceback": [
      "\u001b[1;31m---------------------------------------------------------------------------\u001b[0m",
      "\u001b[1;31mNameError\u001b[0m                                 Traceback (most recent call last)",
      "\u001b[1;32m<ipython-input-29-41b68f2c4b35>\u001b[0m in \u001b[0;36m<module>\u001b[1;34m\u001b[0m\n\u001b[1;32m----> 1\u001b[1;33m \u001b[0mlst\u001b[0m \u001b[1;33m=\u001b[0m \u001b[0msorted\u001b[0m\u001b[1;33m(\u001b[0m\u001b[0maccuracys\u001b[0m\u001b[1;33m,\u001b[0m\u001b[0mkey\u001b[0m\u001b[1;33m=\u001b[0m\u001b[1;32mlambda\u001b[0m \u001b[0mx\u001b[0m\u001b[1;33m:\u001b[0m \u001b[0mx\u001b[0m\u001b[1;33m[\u001b[0m\u001b[1;36m2\u001b[0m\u001b[1;33m]\u001b[0m\u001b[1;33m,\u001b[0m \u001b[0mreverse\u001b[0m\u001b[1;33m=\u001b[0m\u001b[1;32mTrue\u001b[0m\u001b[1;33m)\u001b[0m\u001b[1;33m\u001b[0m\u001b[1;33m\u001b[0m\u001b[0m\n\u001b[0m",
      "\u001b[1;31mNameError\u001b[0m: name 'accuracys' is not defined"
     ]
    }
   ],
   "source": [
    "lst = sorted(accuracys,key=lambda x: x[2], reverse=True)\n"
   ]
  },
  {
   "cell_type": "markdown",
   "metadata": {},
   "source": [
    "### Q5"
   ]
  },
  {
   "cell_type": "code",
   "execution_count": 17,
   "metadata": {},
   "outputs": [],
   "source": [
    "t1 = 0.73\n",
    "t2 = 0.012\n",
    "return5 = set()\n",
    "count = 0\n",
    "for ic, i in mostPopular:\n",
    "    count += ic\n",
    "    return5.add(i)\n",
    "    if count > totalCooked*t1: break"
   ]
  },
  {
   "cell_type": "code",
   "execution_count": 18,
   "metadata": {},
   "outputs": [],
   "source": [
    "predictions = open(\"predictions_Made.txt\", 'w')\n",
    "for l in open(\"stub_Made.txt\"):\n",
    "    if l.startswith(\"user_id\"):\n",
    "    #header\n",
    "        predictions.write(l)\n",
    "        continue\n",
    "    u,i = l.strip().split('-')\n",
    "    cooked_recipes = item_user_train[u]\n",
    "    max_sim = -1\n",
    "    for g2 in cooked_recipes:\n",
    "        if g2 == i: continue\n",
    "        sim = Jaccard(user_item_train[i], user_item_train[g2])\n",
    "        max_sim = max(max_sim,sim)\n",
    "\n",
    "    if i in return5 and max_sim > 0.012:\n",
    "        predictions.write(u + '-' + i + \",1\\n\")\n",
    "    else:\n",
    "        predictions.write(u + '-' + i + \",0\\n\")\n",
    "predictions.close()"
   ]
  },
  {
   "cell_type": "code",
   "execution_count": 19,
   "metadata": {},
   "outputs": [
    {
     "name": "stdout",
     "output_type": "stream",
     "text": [
      "My Kaggle user name is: Ashley9988\n"
     ]
    }
   ],
   "source": [
    "print(\"My Kaggle user name is: Ashley9988\")"
   ]
  }
 ],
 "metadata": {
  "kernelspec": {
   "display_name": "Python 3",
   "language": "python",
   "name": "python3"
  },
  "language_info": {
   "codemirror_mode": {
    "name": "ipython",
    "version": 3
   },
   "file_extension": ".py",
   "mimetype": "text/x-python",
   "name": "python",
   "nbconvert_exporter": "python",
   "pygments_lexer": "ipython3",
   "version": "3.6.13"
  }
 },
 "nbformat": 4,
 "nbformat_minor": 2
}
