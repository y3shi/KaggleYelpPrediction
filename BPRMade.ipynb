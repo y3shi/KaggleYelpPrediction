{
 "cells": [
  {
   "cell_type": "code",
   "execution_count": 1,
   "metadata": {},
   "outputs": [],
   "source": [
    "import gzip\n",
    "import random\n",
    "import scipy\n",
    "from collections import defaultdict\n",
    "# import tensorflow as tf\n",
    "import csv\n",
    "from implicit import bpr\n",
    "import numpy as np\n",
    "import pandas as pd\n",
    "from scipy.sparse import csr_matrix, dok_matrix"
   ]
  },
  {
   "cell_type": "code",
   "execution_count": 2,
   "metadata": {},
   "outputs": [],
   "source": [
    "def readGz(path):\n",
    "    for l in gzip.open(path, 'rt'):\n",
    "        yield eval(l)\n",
    "\n",
    "def readCSV(path):\n",
    "    f = gzip.open(path, 'rt')\n",
    "    c = csv.reader(f)\n",
    "    header = next(c)\n",
    "    for l in c:\n",
    "        d = dict(zip(header,l))\n",
    "        yield d['user_id'],d['recipe_id'],d"
   ]
  },
  {
   "cell_type": "code",
   "execution_count": 3,
   "metadata": {},
   "outputs": [],
   "source": [
    "## Bayesian Personalized Ranking\n",
    "\n",
    "data = []\n",
    "for user,recipe,d in readCSV(\"trainInteractions.csv.gz\"):\n",
    "    u = d['user_id']\n",
    "    i = d['recipe_id']\n",
    "    r = int(d['rating'])\n",
    "    data.append(d)\n",
    "\n",
    "\n",
    "# nTrain = int(len(data) * 0.6)\n",
    "# data = data[:nTrain]\n",
    "random.shuffle(data)"
   ]
  },
  {
   "cell_type": "code",
   "execution_count": 4,
   "metadata": {},
   "outputs": [
    {
     "data": {
      "text/plain": [
       "(13533, 151462)"
      ]
     },
     "execution_count": 4,
     "metadata": {},
     "output_type": "execute_result"
    }
   ],
   "source": [
    "userIDs,itemIDs = {},{}\n",
    "\n",
    "for d in data:\n",
    "    u,i = d['user_id'],d['recipe_id']\n",
    "    if not u in userIDs: userIDs[u] = len(userIDs)\n",
    "    if not i in itemIDs: itemIDs[i] = len(itemIDs)\n",
    "\n",
    "nUsers,nItems = len(userIDs),len(itemIDs)\n",
    "\n",
    "nUsers,nItems"
   ]
  },
  {
   "cell_type": "code",
   "execution_count": 5,
   "metadata": {},
   "outputs": [
    {
     "data": {
      "application/vnd.jupyter.widget-view+json": {
       "model_id": "07958b2aa73841a4818b683c69b8fcb1",
       "version_major": 2,
       "version_minor": 0
      },
      "text/plain": [
       "  0%|          | 0/100 [00:00<?, ?it/s]"
      ]
     },
     "metadata": {},
     "output_type": "display_data"
    }
   ],
   "source": [
    "Xiu = scipy.sparse.lil_matrix((nItems, nUsers))\n",
    "for d in data:\n",
    "    Xiu[itemIDs[d['recipe_id']],userIDs[d['user_id']]] = 1\n",
    "    \n",
    "Xui = scipy.sparse.csr_matrix(Xiu.T)\n",
    "\n",
    "model = bpr.BayesianPersonalizedRanking(factors = 5)\n",
    "model.fit(Xiu)"
   ]
  },
  {
   "cell_type": "code",
   "execution_count": 6,
   "metadata": {},
   "outputs": [],
   "source": [
    "N=50000\n",
    "predictions = open(\"predictions_Made.txt\", 'w')\n",
    "for l in open(\"stub_Made.txt\"):\n",
    "    if l.startswith(\"user_id\"):\n",
    "    #header\n",
    "        predictions.write(l)\n",
    "        continue\n",
    "    u,i = l.strip().split('-')\n",
    "    if u in userIDs.keys() and  i in itemIDs.keys():\n",
    "        u_index = userIDs[u]\n",
    "        i_index = itemIDs[i]\n",
    "    \n",
    "        related = model.similar_items(u_index,N)\n",
    "        related_index = [x[0] for x in related][1:]\n",
    "\n",
    "        if i_index in related_index:\n",
    "            predictions.write(u + '-' + i + \",1\\n\")\n",
    "        else:\n",
    "            predictions.write(u + '-' + i + \",0\\n\")\n",
    "            \n",
    "    else:\n",
    "        predictions.write(u + '-' + i + \",0\\n\")\n",
    "        \n",
    "predictions.close()"
   ]
  },
  {
   "cell_type": "code",
   "execution_count": null,
   "metadata": {},
   "outputs": [],
   "source": []
  }
 ],
 "metadata": {
  "kernelspec": {
   "display_name": "Python [conda env:root] *",
   "language": "python",
   "name": "conda-root-py"
  },
  "language_info": {
   "codemirror_mode": {
    "name": "ipython",
    "version": 3
   },
   "file_extension": ".py",
   "mimetype": "text/x-python",
   "name": "python",
   "nbconvert_exporter": "python",
   "pygments_lexer": "ipython3",
   "version": "3.7.0"
  }
 },
 "nbformat": 4,
 "nbformat_minor": 2
}
