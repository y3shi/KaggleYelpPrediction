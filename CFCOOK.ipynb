{
 "cells": [
  {
   "cell_type": "code",
   "execution_count": 41,
   "metadata": {},
   "outputs": [],
   "source": [
    "import gzip\n",
    "import random\n",
    "import scipy\n",
    "from collections import defaultdict\n",
    "from surprise import SVD, Reader, Dataset\n",
    "from surprise.model_selection import train_test_split\n",
    "from surprise.model_selection import GridSearchCV\n",
    "import csv\n",
    "import numpy as np\n",
    "from surprise.model_selection import cross_validate\n",
    "from surprise import NormalPredictor\n",
    "from surprise import BaselineOnly\n",
    "from surprise import KNNBasic\n",
    "from surprise import KNNWithMeans\n",
    "from surprise import KNNBaseline\n",
    "from surprise import SVDpp\n",
    "from surprise import NMF\n",
    "from surprise import accuracy\n",
    "from surprise.model_selection import KFold"
   ]
  },
  {
   "cell_type": "code",
   "execution_count": 42,
   "metadata": {},
   "outputs": [],
   "source": [
    "from collections import defaultdict\n"
   ]
  },
  {
   "cell_type": "code",
   "execution_count": 43,
   "metadata": {},
   "outputs": [],
   "source": [
    "dataDir = \"C:/Users/云舒/21Fall/CSE258/HW3/\""
   ]
  },
  {
   "cell_type": "code",
   "execution_count": 44,
   "metadata": {},
   "outputs": [],
   "source": [
    "def readGz(path):\n",
    "    for l in gzip.open(path, 'rt'):\n",
    "        yield eval(l)\n",
    "\n",
    "def readCSV(path):\n",
    "    f = gzip.open(path, 'rt')\n",
    "    c = csv.reader(f)\n",
    "    header = next(c)\n",
    "    for l in c:\n",
    "        d = dict(zip(header,l))\n",
    "        yield d['user_id'],d['recipe_id'],d"
   ]
  },
  {
   "cell_type": "code",
   "execution_count": 45,
   "metadata": {},
   "outputs": [],
   "source": [
    "allRatings = []\n",
    "userRatings = defaultdict(list)\n",
    "userIDs = []\n",
    "itemIDs = []\n",
    "\n",
    "for user,recipe,d in readCSV(\"trainInteractions.csv.gz\"):\n",
    "    userIDs.append(user)\n",
    "    itemIDs.append(recipe)\n",
    "    r = int(d['rating'])\n",
    "    allRatings.append(r)\n",
    "    userRatings[user].append(r)\n",
    "\n",
    "globalAverage = sum(allRatings) / len(allRatings)\n",
    "userAverage = {}\n",
    "for u in userRatings:\n",
    "  userAverage[u] = sum(userRatings[u]) / len(userRatings[u])\n"
   ]
  },
  {
   "cell_type": "code",
   "execution_count": 46,
   "metadata": {},
   "outputs": [],
   "source": [
    "data = []\n",
    "recipes = []\n",
    "usersPerItem = defaultdict(set) # Maps an item to the users who rated it\n",
    "itemsPerUser = defaultdict(set)\n",
    "user_item = defaultdict(list)\n",
    "\n",
    "\n",
    "for user,recipe,d in readCSV(\"trainInteractions.csv.gz\"):\n",
    "    data.append(d)\n",
    "    recipes.append(recipe)\n",
    "    user_item[user].append(recipe)"
   ]
  },
  {
   "cell_type": "code",
   "execution_count": 47,
   "metadata": {},
   "outputs": [],
   "source": [
    "allRatings = []\n",
    "userRatings = defaultdict(list)\n",
    "itemRatings = defaultdict(list)\n",
    "\n",
    "for user,recipe,d in readCSV(\"trainInteractions.csv.gz\"):\n",
    "    r = int(d['rating'])\n",
    "    allRatings.append(r)\n",
    "    userRatings[user].append(r)\n",
    "    itemRatings[recipe].append(r)\n",
    "\n",
    "globalAverage = sum(allRatings) / len(allRatings)\n",
    "\n",
    "userAverage = {}\n",
    "itemAverage = {}\n",
    "for u in userRatings:\n",
    "    userAverage[u] = sum(userRatings[u]) / len(userRatings[u])\n",
    "for i in itemRatings:\n",
    "    itemAverage[i] = sum(itemRatings[i])/len(itemRatings[i])"
   ]
  },
  {
   "cell_type": "code",
   "execution_count": 48,
   "metadata": {},
   "outputs": [],
   "source": [
    "trainsize = 400000\n",
    "train = data[:trainsize]\n",
    "valid = data[trainsize:]"
   ]
  },
  {
   "cell_type": "code",
   "execution_count": 49,
   "metadata": {},
   "outputs": [],
   "source": [
    "user_item_train = defaultdict(set)\n",
    "item_user_train = defaultdict(set)\n",
    "user_item_valid = defaultdict(list)\n",
    "for d in train:\n",
    "    user,item = d['user_id'],d['recipe_id']\n",
    "    user_item_train[item].add(user)#\n",
    "    item_user_train[user].add(item)\n",
    "for d in valid:\n",
    "    user,item = d['user_id'],d['recipe_id']\n",
    "    user_item_valid[user].append(item)"
   ]
  },
  {
   "cell_type": "code",
   "execution_count": 50,
   "metadata": {},
   "outputs": [],
   "source": [
    "valid_new = defaultdict(dict)\n",
    "recipes = list(set(recipes))\n",
    "randomed = set()\n",
    "for d in valid:\n",
    "    user = d['user_id']\n",
    "    recipe = d['recipe_id']\n",
    "    valid_new[user][recipe]=1\n",
    "    while True:\n",
    "        random_int = random.randint(0,len(recipes)-1)\n",
    "        random_recipe = recipes[random_int]\n",
    "        if random_recipe not in user_item[user] and random_recipe not in randomed:\n",
    "            valid_new[user][random_recipe] = 0\n",
    "            randomed.add(random_recipe)\n",
    "            break"
   ]
  },
  {
   "cell_type": "code",
   "execution_count": 51,
   "metadata": {},
   "outputs": [
    {
     "data": {
      "text/plain": [
       "(200000, 100000, 100000)"
      ]
     },
     "execution_count": 51,
     "metadata": {},
     "output_type": "execute_result"
    }
   ],
   "source": [
    "pos = 0\n",
    "neg = 0\n",
    "cnt =0\n",
    "for user in valid_new:\n",
    "    for recipe in valid_new[user]:\n",
    "        cnt +=1\n",
    "        if valid_new[user][recipe] == 1:\n",
    "            pos+=1\n",
    "        if valid_new[user][recipe] == 0:\n",
    "            neg +=1\n",
    "cnt, pos,neg"
   ]
  },
  {
   "cell_type": "code",
   "execution_count": 59,
   "metadata": {},
   "outputs": [],
   "source": [
    "\n",
    "recipeCount = defaultdict(int)\n",
    "totalCooked = 0\n",
    "\n",
    "for user,recipe,_ in readCSV(\"trainInteractions.csv.gz\"):\n",
    "  recipeCount[recipe] += 1\n",
    "  totalCooked += 1\n",
    "\n",
    "mostPopular = [(recipeCount[x], x) for x in recipeCount]\n",
    "mostPopular.sort()\n",
    "mostPopular.reverse()\n",
    "\n",
    "return1 = set()\n",
    "count = 0\n",
    "for ic, i in mostPopular:\n",
    "  count += ic\n",
    "  return1.add(i)\n",
    "  if count > totalCooked*0.645: break "
   ]
  },
  {
   "cell_type": "code",
   "execution_count": 52,
   "metadata": {},
   "outputs": [],
   "source": [
    "reader = Reader(line_format='user item timestamp rating', sep=',',skip_lines=1)\n",
    "dataset = Dataset.load_from_file(dataDir + \"trainInteractions.csv\", reader=reader)"
   ]
  },
  {
   "cell_type": "code",
   "execution_count": null,
   "metadata": {},
   "outputs": [],
   "source": []
  },
  {
   "cell_type": "code",
   "execution_count": 53,
   "metadata": {},
   "outputs": [],
   "source": [
    "trainset, testset = train_test_split(dataset, test_size=.25)"
   ]
  },
  {
   "cell_type": "code",
   "execution_count": 54,
   "metadata": {},
   "outputs": [
    {
     "name": "stdout",
     "output_type": "stream",
     "text": [
      "Computing the msd similarity matrix...\n",
      "Done computing similarity matrix.\n",
      "Computing the msd similarity matrix...\n",
      "Done computing similarity matrix.\n",
      "Computing the msd similarity matrix...\n",
      "Done computing similarity matrix.\n",
      "Evaluating RMSE, MAE of algorithm KNNWithMeans on 3 split(s).\n",
      "\n",
      "                  Fold 1  Fold 2  Fold 3  Mean    Std     \n",
      "RMSE (testset)    0.9818  0.9856  0.9795  0.9823  0.0025  \n",
      "MAE (testset)     0.5674  0.5718  0.5684  0.5692  0.0019  \n",
      "Fit time          10.01   14.09   10.62   11.57   1.80    \n",
      "Test time         7.19    9.32    8.01    8.18    0.88    \n"
     ]
    },
    {
     "data": {
      "text/plain": [
       "{'test_rmse': array([0.98181489, 0.98558006, 0.97950759]),\n",
       " 'test_mae': array([0.56737441, 0.5717802 , 0.56838712]),\n",
       " 'fit_time': (10.011189937591553, 14.089692115783691, 10.622385025024414),\n",
       " 'test_time': (7.191771745681763, 9.324313640594482, 8.010597705841064)}"
      ]
     },
     "execution_count": 54,
     "metadata": {},
     "output_type": "execute_result"
    }
   ],
   "source": [
    "algo = KNNWithMeans()\n",
    "cross_validate(algo, dataset, measures=['RMSE', 'MAE'], cv=3, verbose=True)"
   ]
  },
  {
   "cell_type": "code",
   "execution_count": 19,
   "metadata": {},
   "outputs": [],
   "source": []
  },
  {
   "cell_type": "code",
   "execution_count": 39,
   "metadata": {},
   "outputs": [],
   "source": [
    "res = []\n",
    "for k in np.arange(0.2,1,0.1):\n",
    "    cnt = 0\n",
    "    correct = 0\n",
    "    for user in valid_new:\n",
    "        for recipe in valid_new[user]:\n",
    "            cnt +=1\n",
    "            r = algo.predict(user,recipe).est\n",
    "            if r >= k*userAverage[user]  and valid_new[user][recipe] == 1:\n",
    "                correct +=1\n",
    "            if r < k*userAverage[user] and valid_new[user][recipe] == 0:\n",
    "                correct +=1\n",
    "    accuracy1 = correct/cnt\n",
    "    res.append((k,accuracy1))"
   ]
  },
  {
   "cell_type": "code",
   "execution_count": 40,
   "metadata": {},
   "outputs": [
    {
     "data": {
      "text/plain": [
       "[(0.2, 0.5),\n",
       " (0.30000000000000004, 0.49621),\n",
       " (0.4000000000000001, 0.49508),\n",
       " (0.5000000000000001, 0.493805),\n",
       " (0.6000000000000001, 0.49323),\n",
       " (0.7000000000000002, 0.49233),\n",
       " (0.8000000000000003, 0.49037),\n",
       " (0.9000000000000001, 0.48721)]"
      ]
     },
     "execution_count": 40,
     "metadata": {},
     "output_type": "execute_result"
    }
   ],
   "source": [
    "res"
   ]
  },
  {
   "cell_type": "code",
   "execution_count": 35,
   "metadata": {},
   "outputs": [],
   "source": [
    "cnt = 0\n",
    "rs= {}\n",
    "correct = 0\n",
    "for user in valid_new:\n",
    "    for recipe in valid_new[user]:\n",
    "        cnt +=1\n",
    "        r = algo.predict(user,recipe).est\n",
    "        rs[(user,recipe)]=[]\n",
    "        rs[(user,recipe)].append(r)\n",
    "        if r >= userAverage[user]  and valid_new[user][recipe] == 1:\n",
    "            correct +=1\n",
    "        if r < userAverage[user] and valid_new[user][recipe] == 0:\n",
    "                correct +=1\n",
    "accuracy1 = correct/cnt"
   ]
  },
  {
   "cell_type": "code",
   "execution_count": null,
   "metadata": {},
   "outputs": [],
   "source": []
  },
  {
   "cell_type": "code",
   "execution_count": 56,
   "metadata": {},
   "outputs": [],
   "source": [
    "predictions = open(\"predictions_Made.txt\", 'w')\n",
    "for l in open(\"stub_Made.txt\"):\n",
    "    if l.startswith(\"user_id\"):\n",
    "    #header\n",
    "        predictions.write(l)\n",
    "        continue\n",
    "    u,i = l.strip().split('-')\n",
    "    if u in userIDs and i in itemIDs:\n",
    "        r = algo.predict(u,i).est\n",
    "        if r >= userAverage[u] : \n",
    "            predictions.write(u + '-' + i + \",1\\n\")\n",
    "        else:\n",
    "            predictions.write(u + '-' + i + \",0\\n\")\n",
    "        \n",
    "    elif u in userIDs:\n",
    "        r = userAverage[u]\n",
    "        if r >= globalAverage: \n",
    "            predictions.write(u + '-' + i + \",1\\n\")\n",
    "        else:\n",
    "            predictions.write(u + '-' + i + \",0\\n\")\n",
    "            \n",
    "    elif i in itemIDs:\n",
    "        r = itemAverage[i]\n",
    "        if r >= globalAverage: \n",
    "            predictions.write(u + '-' + i + \",1\\n\")\n",
    "        else:\n",
    "            predictions.write(u + '-' + i + \",0\\n\")\n",
    "        \n",
    "    else:\n",
    "        predictions.write(u + '-' + i + \",0\\n\")\n",
    "        \n",
    "\n",
    "predictions.close()"
   ]
  },
  {
   "cell_type": "code",
   "execution_count": null,
   "metadata": {},
   "outputs": [],
   "source": []
  }
 ],
 "metadata": {
  "kernelspec": {
   "display_name": "Python [conda env:root] *",
   "language": "python",
   "name": "conda-root-py"
  },
  "language_info": {
   "codemirror_mode": {
    "name": "ipython",
    "version": 3
   },
   "file_extension": ".py",
   "mimetype": "text/x-python",
   "name": "python",
   "nbconvert_exporter": "python",
   "pygments_lexer": "ipython3",
   "version": "3.7.0"
  }
 },
 "nbformat": 4,
 "nbformat_minor": 2
}
